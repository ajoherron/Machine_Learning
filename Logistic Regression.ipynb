{
 "cells": [
  {
   "cell_type": "code",
   "execution_count": 8,
   "metadata": {},
   "outputs": [],
   "source": [
    "#Import packages\n",
    "import numpy as np\n",
    "import matplotlib.pyplot as plt\n",
    "from functools import partial\n",
    "from sklearn.preprocessing import StandardScaler\n",
    "from scipy.optimize import minimize"
   ]
  },
  {
   "cell_type": "code",
   "execution_count": 9,
   "metadata": {},
   "outputs": [],
   "source": [
    "#Import data\n",
    "X_train = np.loadtxt('X_train.txt', delimiter = ',')\n",
    "X_val = np.loadtxt('X_val.txt', delimiter = ',')\n",
    "y_train = np.loadtxt('y_train.txt', delimiter = ',')\n",
    "y_val = np.loadtxt('y_val.txt', delimiter = ',')"
   ]
  },
  {
   "cell_type": "code",
   "execution_count": 10,
   "metadata": {},
   "outputs": [],
   "source": [
    "#Create objective function\n",
    "\n",
    "def f_objective(theta, X, y, l2_param=1):\n",
    "    '''\n",
    "    Args:\n",
    "        theta: 1D numpy array of size num_features\n",
    "        X: 2D numpy array of size (num_instances, num_features)\n",
    "        y: 1D numpy array of size num_instances\n",
    "        l2_param: regularization parameter\n",
    "\n",
    "    Returns:\n",
    "        objective: scalar value of objective function\n",
    "    '''\n",
    "    #Calculate number of features, initialize unregularized objective\n",
    "    num_instances = X.shape[0]\n",
    "    unreg_obj = 0\n",
    "    \n",
    "    #Calculate unregularized objective\n",
    "    for i in range(num_instances):\n",
    "        unreg_obj += np.logaddexp(0, -y[i] * np.dot(theta, X[i]))    \n",
    "    unreg_obj = unreg_obj / num_instances\n",
    "    \n",
    "    #Calculate regularized objective\n",
    "    reg_obj = l2_param * np.dot(theta, theta)\n",
    "    \n",
    "    #Calculate total objective\n",
    "    objective = unreg_obj + reg_obj\n",
    "    return objective"
   ]
  },
  {
   "cell_type": "code",
   "execution_count": 11,
   "metadata": {},
   "outputs": [],
   "source": [
    "#Complete fit logistic regression function\n",
    "\n",
    "def fit_logistic_reg(X, y, objective_function, l2_param=1):\n",
    "    '''\n",
    "    Args:\n",
    "        X: 2D numpy array of size (num_instances, num_features)\n",
    "        y: 1D numpy array of size num_instances\n",
    "        objective_function: function returning the value of the objective\n",
    "        l2_param: regularization parameter\n",
    "        \n",
    "    Returns:\n",
    "        optimal_theta: 1D numpy array of size num_features\n",
    "    '''\n",
    "    #Calculate number of features and objective, initialize theta\n",
    "    num_features = X.shape[1]\n",
    "    theta_initial = np.random.rand(num_features)\n",
    "    objective = partial(objective_function, X = X, y = y, l2_param = l2_param)    \n",
    "\n",
    "    #Use minimize from scipy.optimize to optimize model\n",
    "    theta_optimal = minimize(objective, theta_initial).x\n",
    "    return theta_optimal"
   ]
  },
  {
   "cell_type": "code",
   "execution_count": 12,
   "metadata": {},
   "outputs": [
    {
     "name": "stdout",
     "output_type": "stream",
     "text": [
      "Optimal theta:\n",
      " [ 0.00236217  0.0009574  -0.00029946  0.00302104  0.105343   -0.00358779\n",
      " -0.00135977 -0.00385486 -0.0007892  -0.00114331 -0.07179738  0.00655017\n",
      " -0.00451114  0.01126146 -0.00386679 -0.0027117   0.00150394 -0.00278449\n",
      " -0.00919176 -0.00682377 -0.01027322]\n"
     ]
    }
   ],
   "source": [
    "#Set standard scaler\n",
    "ss = StandardScaler()\n",
    "\n",
    "#Scale X\n",
    "X_train = ss.fit_transform(X_train)\n",
    "X_val = ss.fit_transform(X_val)\n",
    "\n",
    "#Change 0 values to -1 for y\n",
    "y_train[y_train == 0] = -1\n",
    "y_val[y_val == 0] = -1\n",
    "\n",
    "#Create bias term for X\n",
    "X_train = np.append(10 * np.ones((len(X_train), 1)), X_train, axis = 1)\n",
    "X_val = np.append(10 * np.ones((len(X_val), 1)), X_val, axis = 1)\n",
    "\n",
    "#Train model and print optima theta values\n",
    "theta = fit_logistic_reg(X_train, y_train, f_objective, l2_param = 1)\n",
    "print(f\"Optimal theta:\\n {theta}\")"
   ]
  },
  {
   "cell_type": "code",
   "execution_count": 13,
   "metadata": {},
   "outputs": [],
   "source": [
    "#Find optimal l2 regularization parameter\n",
    "\n",
    "def log_likelihood(theta, X, y):\n",
    "    #Determine number of instances, initialize log likelihood\n",
    "    num_instances = X.shape[0]\n",
    "    ll = 0\n",
    "    \n",
    "    #Calculate loss, return negative loss\n",
    "    for i in range(num_instances):\n",
    "        ll += np.logaddexp(0, -y[i]*np.dot(theta, X[i]))\n",
    "    return ll"
   ]
  },
  {
   "cell_type": "code",
   "execution_count": 14,
   "metadata": {},
   "outputs": [],
   "source": [
    "#Create list for l2 parameters, initialize validation log likelihood list\n",
    "l2_list = 10.**np.arange(-10, 5)\n",
    "val_ll = []\n",
    "\n",
    "#Calculate validation log likelihood for each l2 param\n",
    "for l2 in l2_list:\n",
    "    theta_optimal = fit_logistic_reg(X_train, y_train, f_objective, l2_param = l2)\n",
    "    ll = log_likelihood(theta_optimal, X_val, y_val)\n",
    "    val_ll.append(ll)"
   ]
  },
  {
   "cell_type": "code",
   "execution_count": 15,
   "metadata": {},
   "outputs": [
    {
     "data": {
      "image/png": "[encoded data removed]",
      "text/plain": [
       "<Figure size 432x288 with 1 Axes>"
      ]
     },
     "metadata": {
      "needs_background": "light"
     },
     "output_type": "display_data"
    }
   ],
   "source": [
    "#Plot results\n",
    "plt.plot(l2_list, val_ll)\n",
    "plt.xscale('log')\n",
    "plt.vlines(x = 10**-2, ymin = 230, ymax = 280, color = 'red')\n",
    "plt.xlabel('L2 Regularization Parameter')\n",
    "plt.ylabel('Validation Log-Likelihood')\n",
    "plt.title('Optimization of L2 Regularization Parameter')\n",
    "plt.show()"
   ]
  },
  {
   "cell_type": "code",
   "execution_count": null,
   "metadata": {},
   "outputs": [],
   "source": []
  }
 ],
 "metadata": {
  "kernelspec": {
   "display_name": "Python 3 (ipykernel)",
   "language": "python",
   "name": "python3"
  },
  "language_info": {
   "codemirror_mode": {
    "name": "ipython",
    "version": 3
   },
   "file_extension": ".py",
   "mimetype": "text/x-python",
   "name": "python",
   "nbconvert_exporter": "python",
   "pygments_lexer": "ipython3",
   "version": "3.8.8"
  }
 },
 "nbformat": 4,
 "nbformat_minor": 4
}
